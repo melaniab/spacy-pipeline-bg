{
 "cells": [
  {
   "cell_type": "code",
   "execution_count": 1,
   "metadata": {},
   "outputs": [],
   "source": [
    "import spacy \n",
    "from spacy.tokens import DocBin\n",
    "from spacy import displacy\n",
    "import pandas as pd\n",
    "import os"
   ]
  },
  {
   "cell_type": "code",
   "execution_count": 2,
   "metadata": {},
   "outputs": [
    {
     "data": {
      "text/plain": [
       "'3.3.1'"
      ]
     },
     "execution_count": 2,
     "metadata": {},
     "output_type": "execute_result"
    }
   ],
   "source": [
    "spacy.__version__"
   ]
  },
  {
   "cell_type": "markdown",
   "metadata": {},
   "source": [
    "## Loading and evaluating the model "
   ]
  },
  {
   "cell_type": "code",
   "execution_count": 3,
   "metadata": {},
   "outputs": [],
   "source": [
    "nlp = spacy.load('models_v3.3/model-best')"
   ]
  },
  {
   "cell_type": "code",
   "execution_count": 4,
   "metadata": {
    "scrolled": true
   },
   "outputs": [
    {
     "data": {
      "text/plain": [
       "['tok2vec', 'tagger', 'morphologizer', 'parser', 'trainable_lemmatizer']"
      ]
     },
     "execution_count": 4,
     "metadata": {},
     "output_type": "execute_result"
    }
   ],
   "source": [
    "nlp.pipe_names"
   ]
  },
  {
   "cell_type": "code",
   "execution_count": 5,
   "metadata": {},
   "outputs": [
    {
     "name": "stdout",
     "output_type": "stream",
     "text": [
      "\u001b[1m\n",
      "============================= Pipeline Overview =============================\u001b[0m\n",
      "\n",
      "#   Component              Assigns               Requires   Scores             Retokenizes\n",
      "-   --------------------   -------------------   --------   ----------------   -----------\n",
      "0   tok2vec                doc.tensor                                          False      \n",
      "                                                                                          \n",
      "1   tagger                 token.tag                        tag_acc            False      \n",
      "                                                                                          \n",
      "2   morphologizer          token.morph                      pos_acc            False      \n",
      "                           token.pos                        morph_acc                     \n",
      "                                                            morph_per_feat                \n",
      "                                                                                          \n",
      "3   parser                 token.dep                        dep_uas            False      \n",
      "                           token.head                       dep_las                       \n",
      "                           token.is_sent_start              dep_las_per_type              \n",
      "                           doc.sents                        sents_p                       \n",
      "                                                            sents_r                       \n",
      "                                                            sents_f                       \n",
      "                                                                                          \n",
      "4   trainable_lemmatizer   token.lemma                      lemma_acc          False      \n",
      "\n",
      "✔ No problems found.\n"
     ]
    }
   ],
   "source": [
    "analysis = nlp.analyze_pipes(pretty=True)"
   ]
  },
  {
   "cell_type": "code",
   "execution_count": 7,
   "metadata": {},
   "outputs": [
    {
     "name": "stdout",
     "output_type": "stream",
     "text": [
      "[i] Using CPU\n",
      "\u001b[1m\n",
      "================================== Results ==================================\u001b[0m\n",
      "\n",
      "TOK      99.97\n",
      "TAG      94.75\n",
      "POS      98.12\n",
      "MORPH    95.79\n",
      "LEMMA    93.88\n",
      "UAS      89.95\n",
      "LAS      84.77\n",
      "SENT P   92.62\n",
      "SENT R   96.77\n",
      "SENT F   94.65\n",
      "SPEED    984  \n",
      "\n",
      "\u001b[1m\n",
      "============================== MORPH (per feat) ==============================\u001b[0m\n",
      "\n",
      "                P        R        F\n",
      "Case        97.11    97.21    97.16\n",
      "Number      98.48    98.41    98.45\n",
      "Person      97.65    97.40    97.52\n",
      "PronType    98.69    98.18    98.43\n",
      "Aspect      94.54    92.86    93.69\n",
      "Mood        98.10    97.85    97.98\n",
      "Tense       95.00    94.31    94.66\n",
      "VerbForm    98.24    96.49    97.36\n",
      "Voice       98.12    96.44    97.27\n",
      "Definite    98.19    98.30    98.24\n",
      "Degree      96.71    97.38    97.04\n",
      "Gender      96.44    96.41    96.42\n",
      "Poss        94.18    93.68    93.93\n",
      "Reflex      98.94    99.20    99.07\n",
      "Polarity   100.00   100.00   100.00\n",
      "Animacy     83.33   100.00    90.91\n",
      "NumType     94.88    95.14    95.01\n",
      "\n",
      "\u001b[1m\n",
      "=============================== LAS (per type) ===============================\u001b[0m\n",
      "\n",
      "                  P       R       F\n",
      "nsubj         83.40   83.08   83.24\n",
      "cop           76.90   82.59   79.64\n",
      "mark          93.26   92.74   93.00\n",
      "advcl         65.52   69.51   67.46\n",
      "aux           96.30   84.35   89.93\n",
      "ccomp         79.10   52.63   63.21\n",
      "case          97.09   97.66   97.37\n",
      "amod          95.08   95.40   95.24\n",
      "root          87.51   91.67   89.54\n",
      "nmod          81.70   82.34   82.02\n",
      "det           96.07   94.48   95.26\n",
      "obj           84.63   79.52   82.00\n",
      "discourse     91.38   77.94   84.13\n",
      "fixed         82.50   79.52   80.98\n",
      "advmod        81.19   83.57   82.36\n",
      "iobj          67.79   63.87   65.77\n",
      "expl          96.04   90.94   93.42\n",
      "csubj         51.61   48.48   50.00\n",
      "obl           67.01   63.02   64.95\n",
      "cc            89.68   89.29   89.48\n",
      "conj          66.61   71.61   69.02\n",
      "xcomp         31.67   67.86   43.18\n",
      "nsubj:pass    70.00   79.67   74.52\n",
      "acl:relcl     79.12   71.29   75.00\n",
      "appos          0.00    0.00    0.00\n",
      "vocative      33.33   50.00   40.00\n",
      "dep            0.00    0.00    0.00\n",
      "aux:pass      51.35   93.44   66.28\n",
      "acl           69.09   63.33   66.09\n",
      "nummod        88.44   91.07   89.74\n",
      "flat          80.14   86.67   83.27\n",
      "csubj:pass   100.00   20.00   33.33\n",
      "parataxis     13.85   90.00   24.00\n",
      "goeswith       0.00    0.00    0.00\n",
      "\n"
     ]
    }
   ],
   "source": [
    "# include_static_vectors = true\n",
    "!python -m spacy evaluate ./models_v3.3/model-best corpus/test_udep.spacy --code language_components/custom_bg_lang.py"
   ]
  },
  {
   "cell_type": "markdown",
   "metadata": {},
   "source": [
    "# Generating predictions "
   ]
  },
  {
   "cell_type": "markdown",
   "metadata": {},
   "source": [
    "### Packaging the model"
   ]
  },
  {
   "cell_type": "code",
   "execution_count": 8,
   "metadata": {},
   "outputs": [
    {
     "name": "stderr",
     "output_type": "stream",
     "text": [
      "warning: no files found matching 'LICENSE'"
     ]
    },
    {
     "name": "stdout",
     "output_type": "stream",
     "text": [
      "running sdist\n",
      "running egg_info\n",
      "writing bg_bg.egg-info\\PKG-INFO\n",
      "writing dependency_links to bg_bg.egg-info\\dependency_links.txt\n",
      "writing entry points to bg_bg.egg-info\\entry_points.txt\n",
      "writing requirements to bg_bg.egg-info\\requires.txt\n",
      "writing top-level names to bg_bg.egg-info\\top_level.txt\n",
      "reading manifest file 'bg_bg.egg-info\\SOURCES.txt'\n",
      "reading manifest template 'MANIFEST.in'\n",
      "writing manifest file 'bg_bg.egg-info\\SOURCES.txt'\n",
      "running check\n",
      "creating bg_bg-1.0.0\n",
      "creating bg_bg-1.0.0\\bg_bg\n",
      "creating bg_bg-1.0.0\\bg_bg.egg-info\n",
      "creating bg_bg-1.0.0\\bg_bg\\bg_bg-1.0.0\n",
      "creating bg_bg-1.0.0\\bg_bg\\bg_bg-1.0.0\\morphologizer\n",
      "creating bg_bg-1.0.0\\bg_bg\\bg_bg-1.0.0\\parser\n",
      "creating bg_bg-1.0.0\\bg_bg\\bg_bg-1.0.0\\tagger\n",
      "creating bg_bg-1.0.0\\bg_bg\\bg_bg-1.0.0\\tok2vec\n",
      "creating bg_bg-1.0.0\\bg_bg\\bg_bg-1.0.0\\trainable_lemmatizer\n",
      "creating bg_bg-1.0.0\\bg_bg\\bg_bg-1.0.0\\vocab\n",
      "copying files to bg_bg-1.0.0...\n",
      "copying MANIFEST.in -> bg_bg-1.0.0\n",
      "copying README.md -> bg_bg-1.0.0\n",
      "copying meta.json -> bg_bg-1.0.0\n",
      "copying setup.py -> bg_bg-1.0.0\n",
      "copying bg_bg\\__init__.py -> bg_bg-1.0.0\\bg_bg\n",
      "copying bg_bg\\custom_bg_lang.py -> bg_bg-1.0.0\\bg_bg\n",
      "copying bg_bg\\meta.json -> bg_bg-1.0.0\\bg_bg\n",
      "copying bg_bg.egg-info\\PKG-INFO -> bg_bg-1.0.0\\bg_bg.egg-info\n",
      "copying bg_bg.egg-info\\SOURCES.txt -> bg_bg-1.0.0\\bg_bg.egg-info\n",
      "copying bg_bg.egg-info\\dependency_links.txt -> bg_bg-1.0.0\\bg_bg.egg-info\n",
      "copying bg_bg.egg-info\\entry_points.txt -> bg_bg-1.0.0\\bg_bg.egg-info\n",
      "copying bg_bg.egg-info\\not-zip-safe -> bg_bg-1.0.0\\bg_bg.egg-info\n",
      "copying bg_bg.egg-info\\requires.txt -> bg_bg-1.0.0\\bg_bg.egg-info\n",
      "copying bg_bg.egg-info\\top_level.txt -> bg_bg-1.0.0\\bg_bg.egg-info\n",
      "copying bg_bg\\bg_bg-1.0.0\\config.cfg -> bg_bg-1.0.0\\bg_bg\\bg_bg-1.0.0\n",
      "copying bg_bg\\bg_bg-1.0.0\\meta.json -> bg_bg-1.0.0\\bg_bg\\bg_bg-1.0.0\n",
      "copying bg_bg\\bg_bg-1.0.0\\tokenizer -> bg_bg-1.0.0\\bg_bg\\bg_bg-1.0.0\n",
      "copying bg_bg\\bg_bg-1.0.0\\morphologizer\\cfg -> bg_bg-1.0.0\\bg_bg\\bg_bg-1.0.0\\morphologizer\n",
      "copying bg_bg\\bg_bg-1.0.0\\morphologizer\\model -> bg_bg-1.0.0\\bg_bg\\bg_bg-1.0.0\\morphologizer\n",
      "copying bg_bg\\bg_bg-1.0.0\\parser\\cfg -> bg_bg-1.0.0\\bg_bg\\bg_bg-1.0.0\\parser\n",
      "copying bg_bg\\bg_bg-1.0.0\\parser\\model -> bg_bg-1.0.0\\bg_bg\\bg_bg-1.0.0\\parser\n",
      "copying bg_bg\\bg_bg-1.0.0\\parser\\moves -> bg_bg-1.0.0\\bg_bg\\bg_bg-1.0.0\\parser\n",
      "copying bg_bg\\bg_bg-1.0.0\\tagger\\cfg -> bg_bg-1.0.0\\bg_bg\\bg_bg-1.0.0\\tagger\n",
      "copying bg_bg\\bg_bg-1.0.0\\tagger\\model -> bg_bg-1.0.0\\bg_bg\\bg_bg-1.0.0\\tagger\n",
      "copying bg_bg\\bg_bg-1.0.0\\tok2vec\\cfg -> bg_bg-1.0.0\\bg_bg\\bg_bg-1.0.0\\tok2vec\n",
      "copying bg_bg\\bg_bg-1.0.0\\tok2vec\\model -> bg_bg-1.0.0\\bg_bg\\bg_bg-1.0.0\\tok2vec\n",
      "copying bg_bg\\bg_bg-1.0.0\\trainable_lemmatizer\\cfg -> bg_bg-1.0.0\\bg_bg\\bg_bg-1.0.0\\trainable_lemmatizer\n",
      "copying bg_bg\\bg_bg-1.0.0\\trainable_lemmatizer\\model -> bg_bg-1.0.0\\bg_bg\\bg_bg-1.0.0\\trainable_lemmatizer\n",
      "copying bg_bg\\bg_bg-1.0.0\\trainable_lemmatizer\\trees -> bg_bg-1.0.0\\bg_bg\\bg_bg-1.0.0\\trainable_lemmatizer\n",
      "copying bg_bg\\bg_bg-1.0.0\\vocab\\key2row -> bg_bg-1.0.0\\bg_bg\\bg_bg-1.0.0\\vocab\n",
      "copying bg_bg\\bg_bg-1.0.0\\vocab\\lookups.bin -> bg_bg-1.0.0\\bg_bg\\bg_bg-1.0.0\\vocab\n",
      "copying bg_bg\\bg_bg-1.0.0\\vocab\\strings.json -> bg_bg-1.0.0\\bg_bg\\bg_bg-1.0.0\\vocab\n",
      "copying bg_bg\\bg_bg-1.0.0\\vocab\\vectors -> bg_bg-1.0.0\\bg_bg\\bg_bg-1.0.0\\vocab\n",
      "copying bg_bg\\bg_bg-1.0.0\\vocab\\vectors.cfg -> bg_bg-1.0.0\\bg_bg\\bg_bg-1.0.0\\vocab\n",
      "Writing bg_bg-1.0.0\\setup.cfg\n",
      "Creating tar archive\n",
      "removing 'bg_bg-1.0.0' (and everything under it)\n",
      "[i] Building package artifacts: sdist\n",
      "[+] Including 1 Python module(s) with custom code\n",
      "[+] Loaded meta.json from file\n",
      "models_v3.3\\model-best\\meta.json\n",
      "[i] Using existing README.md from pipeline directory\n",
      "[+] Successfully created package directory 'bg_bg-1.0.0'\n",
      "packages\\bg_bg-1.0.0\n",
      "[+] Successfully created zipped Python package\n",
      "packages\\bg_bg-1.0.0\\dist\\bg_bg-1.0.0.tar.gz\n"
     ]
    },
    {
     "name": "stderr",
     "output_type": "stream",
     "text": [
      "\n",
      "warning: no files found matching 'LICENSES_SOURCES'\n",
      "warning: check: missing required meta-data: url\n",
      "\n",
      "warning: check: missing meta-data: either (author and author_email) or (maintainer and maintainer_email) should be supplied\n",
      "\n"
     ]
    }
   ],
   "source": [
    "!python -m spacy package ./models_v3.3/model-best/ packages --name bg --version 1.0.0 --code language_components/custom_bg_lang.py --force"
   ]
  },
  {
   "cell_type": "code",
   "execution_count": 9,
   "metadata": {},
   "outputs": [
    {
     "name": "stdout",
     "output_type": "stream",
     "text": [
      "Processing d:\\spacy-pipeline-bg\\spacy-pipeline-bg\\packages\\bg_bg-1.0.0\\dist\\bg_bg-1.0.0.tar.gz\n",
      "Requirement already satisfied: spacy<3.4.0,>=3.3.1 in c:\\users\\hp\\anaconda3\\envs\\spacy-v33\\lib\\site-packages (from bg-bg==1.0.0) (3.3.1)\n",
      "Requirement already satisfied: langcodes<4.0.0,>=3.2.0 in c:\\users\\hp\\anaconda3\\envs\\spacy-v33\\lib\\site-packages (from spacy<3.4.0,>=3.3.1->bg-bg==1.0.0) (3.3.0)\n",
      "Requirement already satisfied: spacy-legacy<3.1.0,>=3.0.9 in c:\\users\\hp\\anaconda3\\envs\\spacy-v33\\lib\\site-packages (from spacy<3.4.0,>=3.3.1->bg-bg==1.0.0) (3.0.9)\n",
      "Requirement already satisfied: requests<3.0.0,>=2.13.0 in c:\\users\\hp\\anaconda3\\envs\\spacy-v33\\lib\\site-packages (from spacy<3.4.0,>=3.3.1->bg-bg==1.0.0) (2.28.0)\n",
      "Requirement already satisfied: tqdm<5.0.0,>=4.38.0 in c:\\users\\hp\\anaconda3\\envs\\spacy-v33\\lib\\site-packages (from spacy<3.4.0,>=3.3.1->bg-bg==1.0.0) (4.64.0)\n",
      "Requirement already satisfied: spacy-loggers<2.0.0,>=1.0.0 in c:\\users\\hp\\anaconda3\\envs\\spacy-v33\\lib\\site-packages (from spacy<3.4.0,>=3.3.1->bg-bg==1.0.0) (1.0.2)\n",
      "Requirement already satisfied: setuptools in c:\\users\\hp\\anaconda3\\envs\\spacy-v33\\lib\\site-packages (from spacy<3.4.0,>=3.3.1->bg-bg==1.0.0) (61.2.0)\n",
      "Requirement already satisfied: wasabi<1.1.0,>=0.9.1 in c:\\users\\hp\\anaconda3\\envs\\spacy-v33\\lib\\site-packages (from spacy<3.4.0,>=3.3.1->bg-bg==1.0.0) (0.9.1)\n",
      "Requirement already satisfied: pathy>=0.3.5 in c:\\users\\hp\\anaconda3\\envs\\spacy-v33\\lib\\site-packages (from spacy<3.4.0,>=3.3.1->bg-bg==1.0.0) (0.6.1)\n",
      "Requirement already satisfied: murmurhash<1.1.0,>=0.28.0 in c:\\users\\hp\\anaconda3\\envs\\spacy-v33\\lib\\site-packages (from spacy<3.4.0,>=3.3.1->bg-bg==1.0.0) (1.0.7)\n",
      "Requirement already satisfied: catalogue<2.1.0,>=2.0.6 in c:\\users\\hp\\anaconda3\\envs\\spacy-v33\\lib\\site-packages (from spacy<3.4.0,>=3.3.1->bg-bg==1.0.0) (2.0.7)\n",
      "Requirement already satisfied: typer<0.5.0,>=0.3.0 in c:\\users\\hp\\anaconda3\\envs\\spacy-v33\\lib\\site-packages (from spacy<3.4.0,>=3.3.1->bg-bg==1.0.0) (0.4.1)\n",
      "Requirement already satisfied: preshed<3.1.0,>=3.0.2 in c:\\users\\hp\\anaconda3\\envs\\spacy-v33\\lib\\site-packages (from spacy<3.4.0,>=3.3.1->bg-bg==1.0.0) (3.0.6)\n",
      "Requirement already satisfied: pydantic!=1.8,!=1.8.1,<1.9.0,>=1.7.4 in c:\\users\\hp\\anaconda3\\envs\\spacy-v33\\lib\\site-packages (from spacy<3.4.0,>=3.3.1->bg-bg==1.0.0) (1.8.2)\n",
      "Requirement already satisfied: numpy>=1.15.0 in c:\\users\\hp\\anaconda3\\envs\\spacy-v33\\lib\\site-packages (from spacy<3.4.0,>=3.3.1->bg-bg==1.0.0) (1.22.4)\n",
      "Requirement already satisfied: thinc<8.1.0,>=8.0.14 in c:\\users\\hp\\anaconda3\\envs\\spacy-v33\\lib\\site-packages (from spacy<3.4.0,>=3.3.1->bg-bg==1.0.0) (8.0.17)\n",
      "Requirement already satisfied: srsly<3.0.0,>=2.4.3 in c:\\users\\hp\\anaconda3\\envs\\spacy-v33\\lib\\site-packages (from spacy<3.4.0,>=3.3.1->bg-bg==1.0.0) (2.4.3)\n",
      "Requirement already satisfied: cymem<2.1.0,>=2.0.2 in c:\\users\\hp\\anaconda3\\envs\\spacy-v33\\lib\\site-packages (from spacy<3.4.0,>=3.3.1->bg-bg==1.0.0) (2.0.6)\n",
      "Requirement already satisfied: packaging>=20.0 in c:\\users\\hp\\anaconda3\\envs\\spacy-v33\\lib\\site-packages (from spacy<3.4.0,>=3.3.1->bg-bg==1.0.0) (21.3)\n",
      "Requirement already satisfied: blis<0.8.0,>=0.4.0 in c:\\users\\hp\\anaconda3\\envs\\spacy-v33\\lib\\site-packages (from spacy<3.4.0,>=3.3.1->bg-bg==1.0.0) (0.7.7)\n",
      "Requirement already satisfied: jinja2 in c:\\users\\hp\\anaconda3\\envs\\spacy-v33\\lib\\site-packages (from spacy<3.4.0,>=3.3.1->bg-bg==1.0.0) (3.1.2)\n",
      "Requirement already satisfied: pyparsing!=3.0.5,>=2.0.2 in c:\\users\\hp\\anaconda3\\envs\\spacy-v33\\lib\\site-packages (from packaging>=20.0->spacy<3.4.0,>=3.3.1->bg-bg==1.0.0) (3.0.9)\n",
      "Collecting smart-open<6.0.0,>=5.0.0\n",
      "  Using cached smart_open-5.2.1-py3-none-any.whl (58 kB)\n",
      "Requirement already satisfied: typing-extensions>=3.7.4.3 in c:\\users\\hp\\anaconda3\\envs\\spacy-v33\\lib\\site-packages (from pydantic!=1.8,!=1.8.1,<1.9.0,>=1.7.4->spacy<3.4.0,>=3.3.1->bg-bg==1.0.0) (4.2.0)\n",
      "Requirement already satisfied: certifi>=2017.4.17 in c:\\users\\hp\\anaconda3\\envs\\spacy-v33\\lib\\site-packages (from requests<3.0.0,>=2.13.0->spacy<3.4.0,>=3.3.1->bg-bg==1.0.0) (2022.5.18.1)\n",
      "Requirement already satisfied: idna<4,>=2.5 in c:\\users\\hp\\anaconda3\\envs\\spacy-v33\\lib\\site-packages (from requests<3.0.0,>=2.13.0->spacy<3.4.0,>=3.3.1->bg-bg==1.0.0) (3.3)\n",
      "Requirement already satisfied: charset-normalizer~=2.0.0 in c:\\users\\hp\\anaconda3\\envs\\spacy-v33\\lib\\site-packages (from requests<3.0.0,>=2.13.0->spacy<3.4.0,>=3.3.1->bg-bg==1.0.0) (2.0.12)\n",
      "Requirement already satisfied: urllib3<1.27,>=1.21.1 in c:\\users\\hp\\anaconda3\\envs\\spacy-v33\\lib\\site-packages (from requests<3.0.0,>=2.13.0->spacy<3.4.0,>=3.3.1->bg-bg==1.0.0) (1.26.9)\n",
      "Requirement already satisfied: colorama in c:\\users\\hp\\anaconda3\\envs\\spacy-v33\\lib\\site-packages (from tqdm<5.0.0,>=4.38.0->spacy<3.4.0,>=3.3.1->bg-bg==1.0.0) (0.4.4)\n",
      "Requirement already satisfied: click<9.0.0,>=7.1.1 in c:\\users\\hp\\anaconda3\\envs\\spacy-v33\\lib\\site-packages (from typer<0.5.0,>=0.3.0->spacy<3.4.0,>=3.3.1->bg-bg==1.0.0) (8.1.3)\n",
      "Requirement already satisfied: MarkupSafe>=2.0 in c:\\users\\hp\\anaconda3\\envs\\spacy-v33\\lib\\site-packages (from jinja2->spacy<3.4.0,>=3.3.1->bg-bg==1.0.0) (2.1.1)\n",
      "Building wheels for collected packages: bg-bg\n",
      "  Building wheel for bg-bg (setup.py): started\n",
      "  Building wheel for bg-bg (setup.py): finished with status 'done'\n",
      "  Created wheel for bg-bg: filename=bg_bg-1.0.0-py3-none-any.whl size=409686905 sha256=e8038ba0a824e265875364660ef44c0d5a447af3cfa19f0891ace3794755e040\n",
      "  Stored in directory: c:\\users\\hp\\appdata\\local\\pip\\cache\\wheels\\07\\e8\\2c\\a7e4c27bd8be30ba2969b4984d3b12b17334d8849fafa3232d\n",
      "Successfully built bg-bg\n",
      "Installing collected packages: smart-open, bg-bg\n",
      "  Attempting uninstall: smart-open\n",
      "    Found existing installation: smart-open 6.3.0\n",
      "    Uninstalling smart-open-6.3.0:\n",
      "      Successfully uninstalled smart-open-6.3.0\n",
      "Successfully installed bg-bg-1.0.0 smart-open-5.2.1\n"
     ]
    },
    {
     "name": "stderr",
     "output_type": "stream",
     "text": [
      "ERROR: pip's dependency resolver does not currently take into account all the packages that are installed. This behaviour is the source of the following dependency conflicts.\n",
      "gensim 4.3.0 requires scipy>=1.7.0, which is not installed.\n"
     ]
    }
   ],
   "source": [
    "!pip install packages/bg_bg-1.0.0/dist/bg_bg-1.0.0.tar.gz"
   ]
  },
  {
   "cell_type": "markdown",
   "metadata": {},
   "source": [
    "### Adding the custom tokenizer"
   ]
  },
  {
   "cell_type": "code",
   "execution_count": 17,
   "metadata": {},
   "outputs": [],
   "source": [
    "import spacy\n",
    "nlp = spacy.load(\"bg_bg\")"
   ]
  },
  {
   "cell_type": "code",
   "execution_count": 18,
   "metadata": {},
   "outputs": [],
   "source": [
    "from language_components.custom_tokenizer import * "
   ]
  },
  {
   "cell_type": "code",
   "execution_count": 19,
   "metadata": {},
   "outputs": [],
   "source": [
    "nlp.tokenizer = custom_tokenizer(nlp)"
   ]
  },
  {
   "cell_type": "code",
   "execution_count": 20,
   "metadata": {},
   "outputs": [
    {
     "data": {
      "text/plain": [
       "['tok2vec', 'tagger', 'morphologizer', 'parser', 'trainable_lemmatizer']"
      ]
     },
     "execution_count": 20,
     "metadata": {},
     "output_type": "execute_result"
    }
   ],
   "source": [
    "nlp.pipe_names"
   ]
  },
  {
   "cell_type": "code",
   "execution_count": 21,
   "metadata": {},
   "outputs": [],
   "source": [
    "# for test\n",
    "def get_token_list(text): \n",
    "    doc = nlp(text)\n",
    "    tokens = [t.text for t in doc]\n",
    "    return tokens"
   ]
  },
  {
   "cell_type": "code",
   "execution_count": 22,
   "metadata": {},
   "outputs": [
    {
     "data": {
      "text/plain": [
       "['Св.', 'св.', 'Кирил', 'и', 'Методий']"
      ]
     },
     "execution_count": 22,
     "metadata": {},
     "output_type": "execute_result"
    }
   ],
   "source": [
    "get_token_list(\"Св. св. Кирил и Методий\") "
   ]
  },
  {
   "cell_type": "markdown",
   "metadata": {},
   "source": [
    "# Parsing text in the Conll format "
   ]
  },
  {
   "cell_type": "code",
   "execution_count": 23,
   "metadata": {},
   "outputs": [],
   "source": [
    "text = \"\"\"Честита Нова година!\n",
    "Още една година се изтърколи. За едни по-добра, за други по-лоша. Без значение обаче дали 2017 година за вас е била по-динамична или по-лежерна, по-рискована или по-предвидима, по-напрегната или по-спокойна, и тя, както всички останали години, ви е донесла по нещо. Научила ви е на нещо, показала ви е нещо, помогнала ви е да израснете, поне мъничко.\n",
    "И 2018 година ще е такава. Можем само да гадаем дали светът ще стане по-добър или по-лош. Можем да спекулираме за бъдещето на България и изходът от изпитанията, които я очакват. Всяка година се надяваме следващата да е по-добра, а това не винаги се случва.\n",
    "Затова тази година можем да сменим подхода и да не пилеем напразна енергия в спекулации. Вместо това можем да приемем единственото сигурно нещо за настъпващата 2018 година - през нея е натрупаме още опит, без значение добър или лош, с който ще научим нови уроци - за себе си и за другите. Това е най-доброто, което можем да направим за себе си, за страната си и за света - да учим по-бързо уроците си.\n",
    "Колкото по-скоро осъзнаем, че всеки трябва да е свободен да живее със своята истина, толкова по-скоро ще престанем да се съдим, да се месим където не трябва, да се мразим и да се опитваме отчаяно да убеждаваме, че има само един верен път за всичко.\n",
    "Колкото по-скоро осъзнаем, че както океанът не е нищо друго, освен сбор от безброй капки, така и държавата не е нищо друго, освен сбор от милиони хора, толкова по-скоро ще си направим неизбежния извод, че нещата зависят от нас. Държавата ни ще е толкова развита, коректна и уредена, колкото сме ние. И само наше е правото да избираме съдбата си и да защитаваме този избор.\n",
    "Колкото по-скоро осъзнаем, че имаме проблеми - страхове, комплекси, малодушие, толкова по-голям е шансът ни да ги припознаем като нещо, което трябва да бъде преборено, и което да НЕ предадем на децата си, за да могат те да бъдат по-добри от нас.\n",
    "Уроците за всеки са различни. И никога не се учат леко. След всички трудности обаче човек излиза преобразен - малко по-спокоен, малко по-мъдър, малко по-смирен. И знае, че това е цената да бъде по-добър.\n",
    "При народите е същото. И тази година ще имаме да учим общи уроци, които ще ни помогнат, ако сме достатъчно схватливи и зрели, да тръгнем напред. Ако ли не, ще почакаме. Всичко с времето си.\n",
    "Честита Нова година!\"\"\""
   ]
  },
  {
   "cell_type": "code",
   "execution_count": 24,
   "metadata": {},
   "outputs": [
    {
     "name": "stdout",
     "output_type": "stream",
     "text": [
      "Requirement already satisfied: spacy-conll in c:\\users\\hp\\anaconda3\\envs\\spacy-v33\\lib\\site-packages (3.2.0)\n",
      "Requirement already satisfied: spacy>=3.0.1 in c:\\users\\hp\\anaconda3\\envs\\spacy-v33\\lib\\site-packages (from spacy-conll) (3.3.1)\n",
      "Requirement already satisfied: spacy-legacy<3.1.0,>=3.0.9 in c:\\users\\hp\\anaconda3\\envs\\spacy-v33\\lib\\site-packages (from spacy>=3.0.1->spacy-conll) (3.0.9)\n",
      "Requirement already satisfied: spacy-loggers<2.0.0,>=1.0.0 in c:\\users\\hp\\anaconda3\\envs\\spacy-v33\\lib\\site-packages (from spacy>=3.0.1->spacy-conll) (1.0.2)\n",
      "Requirement already satisfied: typer<0.5.0,>=0.3.0 in c:\\users\\hp\\anaconda3\\envs\\spacy-v33\\lib\\site-packages (from spacy>=3.0.1->spacy-conll) (0.4.1)\n",
      "Requirement already satisfied: pathy>=0.3.5 in c:\\users\\hp\\anaconda3\\envs\\spacy-v33\\lib\\site-packages (from spacy>=3.0.1->spacy-conll) (0.6.1)\n",
      "Requirement already satisfied: tqdm<5.0.0,>=4.38.0 in c:\\users\\hp\\anaconda3\\envs\\spacy-v33\\lib\\site-packages (from spacy>=3.0.1->spacy-conll) (4.64.0)\n",
      "Requirement already satisfied: packaging>=20.0 in c:\\users\\hp\\anaconda3\\envs\\spacy-v33\\lib\\site-packages (from spacy>=3.0.1->spacy-conll) (21.3)\n",
      "Requirement already satisfied: thinc<8.1.0,>=8.0.14 in c:\\users\\hp\\anaconda3\\envs\\spacy-v33\\lib\\site-packages (from spacy>=3.0.1->spacy-conll) (8.0.17)\n",
      "Requirement already satisfied: preshed<3.1.0,>=3.0.2 in c:\\users\\hp\\anaconda3\\envs\\spacy-v33\\lib\\site-packages (from spacy>=3.0.1->spacy-conll) (3.0.6)\n",
      "Requirement already satisfied: blis<0.8.0,>=0.4.0 in c:\\users\\hp\\anaconda3\\envs\\spacy-v33\\lib\\site-packages (from spacy>=3.0.1->spacy-conll) (0.7.7)\n",
      "Requirement already satisfied: cymem<2.1.0,>=2.0.2 in c:\\users\\hp\\anaconda3\\envs\\spacy-v33\\lib\\site-packages (from spacy>=3.0.1->spacy-conll) (2.0.6)\n",
      "Requirement already satisfied: catalogue<2.1.0,>=2.0.6 in c:\\users\\hp\\anaconda3\\envs\\spacy-v33\\lib\\site-packages (from spacy>=3.0.1->spacy-conll) (2.0.7)\n",
      "Requirement already satisfied: wasabi<1.1.0,>=0.9.1 in c:\\users\\hp\\anaconda3\\envs\\spacy-v33\\lib\\site-packages (from spacy>=3.0.1->spacy-conll) (0.9.1)\n",
      "Requirement already satisfied: requests<3.0.0,>=2.13.0 in c:\\users\\hp\\anaconda3\\envs\\spacy-v33\\lib\\site-packages (from spacy>=3.0.1->spacy-conll) (2.28.0)\n",
      "Requirement already satisfied: pydantic!=1.8,!=1.8.1,<1.9.0,>=1.7.4 in c:\\users\\hp\\anaconda3\\envs\\spacy-v33\\lib\\site-packages (from spacy>=3.0.1->spacy-conll) (1.8.2)\n",
      "Requirement already satisfied: jinja2 in c:\\users\\hp\\anaconda3\\envs\\spacy-v33\\lib\\site-packages (from spacy>=3.0.1->spacy-conll) (3.1.2)\n",
      "Requirement already satisfied: srsly<3.0.0,>=2.4.3 in c:\\users\\hp\\anaconda3\\envs\\spacy-v33\\lib\\site-packages (from spacy>=3.0.1->spacy-conll) (2.4.3)\n",
      "Requirement already satisfied: setuptools in c:\\users\\hp\\anaconda3\\envs\\spacy-v33\\lib\\site-packages (from spacy>=3.0.1->spacy-conll) (61.2.0)\n",
      "Requirement already satisfied: langcodes<4.0.0,>=3.2.0 in c:\\users\\hp\\anaconda3\\envs\\spacy-v33\\lib\\site-packages (from spacy>=3.0.1->spacy-conll) (3.3.0)\n",
      "Requirement already satisfied: murmurhash<1.1.0,>=0.28.0 in c:\\users\\hp\\anaconda3\\envs\\spacy-v33\\lib\\site-packages (from spacy>=3.0.1->spacy-conll) (1.0.7)\n",
      "Requirement already satisfied: numpy>=1.15.0 in c:\\users\\hp\\anaconda3\\envs\\spacy-v33\\lib\\site-packages (from spacy>=3.0.1->spacy-conll) (1.22.4)\n",
      "Requirement already satisfied: pyparsing!=3.0.5,>=2.0.2 in c:\\users\\hp\\anaconda3\\envs\\spacy-v33\\lib\\site-packages (from packaging>=20.0->spacy>=3.0.1->spacy-conll) (3.0.9)\n",
      "Requirement already satisfied: smart-open<6.0.0,>=5.0.0 in c:\\users\\hp\\anaconda3\\envs\\spacy-v33\\lib\\site-packages (from pathy>=0.3.5->spacy>=3.0.1->spacy-conll) (5.2.1)\n",
      "Requirement already satisfied: typing-extensions>=3.7.4.3 in c:\\users\\hp\\anaconda3\\envs\\spacy-v33\\lib\\site-packages (from pydantic!=1.8,!=1.8.1,<1.9.0,>=1.7.4->spacy>=3.0.1->spacy-conll) (4.2.0)\n",
      "Requirement already satisfied: certifi>=2017.4.17 in c:\\users\\hp\\anaconda3\\envs\\spacy-v33\\lib\\site-packages (from requests<3.0.0,>=2.13.0->spacy>=3.0.1->spacy-conll) (2022.5.18.1)\n",
      "Requirement already satisfied: urllib3<1.27,>=1.21.1 in c:\\users\\hp\\anaconda3\\envs\\spacy-v33\\lib\\site-packages (from requests<3.0.0,>=2.13.0->spacy>=3.0.1->spacy-conll) (1.26.9)\n",
      "Requirement already satisfied: charset-normalizer~=2.0.0 in c:\\users\\hp\\anaconda3\\envs\\spacy-v33\\lib\\site-packages (from requests<3.0.0,>=2.13.0->spacy>=3.0.1->spacy-conll) (2.0.12)\n",
      "Requirement already satisfied: idna<4,>=2.5 in c:\\users\\hp\\anaconda3\\envs\\spacy-v33\\lib\\site-packages (from requests<3.0.0,>=2.13.0->spacy>=3.0.1->spacy-conll) (3.3)\n",
      "Requirement already satisfied: colorama in c:\\users\\hp\\anaconda3\\envs\\spacy-v33\\lib\\site-packages (from tqdm<5.0.0,>=4.38.0->spacy>=3.0.1->spacy-conll) (0.4.4)\n",
      "Requirement already satisfied: click<9.0.0,>=7.1.1 in c:\\users\\hp\\anaconda3\\envs\\spacy-v33\\lib\\site-packages (from typer<0.5.0,>=0.3.0->spacy>=3.0.1->spacy-conll) (8.1.3)\n",
      "Requirement already satisfied: MarkupSafe>=2.0 in c:\\users\\hp\\anaconda3\\envs\\spacy-v33\\lib\\site-packages (from jinja2->spacy>=3.0.1->spacy-conll) (2.1.1)\n"
     ]
    }
   ],
   "source": [
    "!pip install spacy-conll\n",
    "from spacy_conll import init_parser\n",
    "nlp = init_parser(\"bg_bg\", \"spacy\", include_headers=True, disable_sbd=False)"
   ]
  },
  {
   "cell_type": "code",
   "execution_count": 25,
   "metadata": {},
   "outputs": [],
   "source": [
    "nlp.tokenizer = custom_tokenizer(nlp)"
   ]
  },
  {
   "cell_type": "code",
   "execution_count": 26,
   "metadata": {},
   "outputs": [
    {
     "data": {
      "text/plain": [
       "['tok2vec',\n",
       " 'tagger',\n",
       " 'morphologizer',\n",
       " 'parser',\n",
       " 'trainable_lemmatizer',\n",
       " 'conll_formatter']"
      ]
     },
     "execution_count": 26,
     "metadata": {},
     "output_type": "execute_result"
    }
   ],
   "source": [
    "nlp.pipe_names"
   ]
  },
  {
   "cell_type": "code",
   "execution_count": 27,
   "metadata": {},
   "outputs": [],
   "source": [
    "conll_pd = nlp(text)._.conll_pd"
   ]
  },
  {
   "cell_type": "code",
   "execution_count": 28,
   "metadata": {},
   "outputs": [
    {
     "data": {
      "text/html": [
       "<div>\n",
       "<style scoped>\n",
       "    .dataframe tbody tr th:only-of-type {\n",
       "        vertical-align: middle;\n",
       "    }\n",
       "\n",
       "    .dataframe tbody tr th {\n",
       "        vertical-align: top;\n",
       "    }\n",
       "\n",
       "    .dataframe thead th {\n",
       "        text-align: right;\n",
       "    }\n",
       "</style>\n",
       "<table border=\"1\" class=\"dataframe\">\n",
       "  <thead>\n",
       "    <tr style=\"text-align: right;\">\n",
       "      <th></th>\n",
       "      <th>id</th>\n",
       "      <th>form</th>\n",
       "      <th>lemma</th>\n",
       "      <th>upostag</th>\n",
       "      <th>xpostag</th>\n",
       "      <th>feats</th>\n",
       "      <th>head</th>\n",
       "      <th>deprel</th>\n",
       "      <th>deps</th>\n",
       "      <th>misc</th>\n",
       "    </tr>\n",
       "  </thead>\n",
       "  <tbody>\n",
       "    <tr>\n",
       "      <th>0</th>\n",
       "      <td>1</td>\n",
       "      <td>Честита</td>\n",
       "      <td>честита</td>\n",
       "      <td>VERB</td>\n",
       "      <td>Vpitf-r3s</td>\n",
       "      <td>Aspect=Imp|Mood=Ind|Number=Sing|Person=3|Tense...</td>\n",
       "      <td>3</td>\n",
       "      <td>nsubj</td>\n",
       "      <td>_</td>\n",
       "      <td>_</td>\n",
       "    </tr>\n",
       "    <tr>\n",
       "      <th>1</th>\n",
       "      <td>2</td>\n",
       "      <td>Нова</td>\n",
       "      <td>нов</td>\n",
       "      <td>ADJ</td>\n",
       "      <td>Afsi</td>\n",
       "      <td>Definite=Ind|Degree=Pos|Gender=Fem|Number=Sing</td>\n",
       "      <td>3</td>\n",
       "      <td>amod</td>\n",
       "      <td>_</td>\n",
       "      <td>_</td>\n",
       "    </tr>\n",
       "    <tr>\n",
       "      <th>2</th>\n",
       "      <td>3</td>\n",
       "      <td>година</td>\n",
       "      <td>година</td>\n",
       "      <td>NOUN</td>\n",
       "      <td>Ncfsi</td>\n",
       "      <td>Definite=Ind|Gender=Fem|Number=Sing</td>\n",
       "      <td>0</td>\n",
       "      <td>ROOT</td>\n",
       "      <td>_</td>\n",
       "      <td>SpaceAfter=No</td>\n",
       "    </tr>\n",
       "    <tr>\n",
       "      <th>3</th>\n",
       "      <td>4</td>\n",
       "      <td>!</td>\n",
       "      <td>!</td>\n",
       "      <td>PUNCT</td>\n",
       "      <td>punct</td>\n",
       "      <td>_</td>\n",
       "      <td>3</td>\n",
       "      <td>punct</td>\n",
       "      <td>_</td>\n",
       "      <td>SpaceAfter=No</td>\n",
       "    </tr>\n",
       "    <tr>\n",
       "      <th>4</th>\n",
       "      <td>1</td>\n",
       "      <td>\\n</td>\n",
       "      <td>\\n</td>\n",
       "      <td>PROPN</td>\n",
       "      <td>Npfsi</td>\n",
       "      <td>Definite=Ind|Gender=Fem|Number=Sing</td>\n",
       "      <td>0</td>\n",
       "      <td>ROOT</td>\n",
       "      <td>_</td>\n",
       "      <td>SpaceAfter=No</td>\n",
       "    </tr>\n",
       "    <tr>\n",
       "      <th>5</th>\n",
       "      <td>1</td>\n",
       "      <td>Още</td>\n",
       "      <td>още</td>\n",
       "      <td>ADV</td>\n",
       "      <td>Dq</td>\n",
       "      <td>Degree=Pos</td>\n",
       "      <td>2</td>\n",
       "      <td>advmod</td>\n",
       "      <td>_</td>\n",
       "      <td>_</td>\n",
       "    </tr>\n",
       "    <tr>\n",
       "      <th>6</th>\n",
       "      <td>2</td>\n",
       "      <td>една</td>\n",
       "      <td>един</td>\n",
       "      <td>NUM</td>\n",
       "      <td>Mcfsi</td>\n",
       "      <td>Definite=Ind|Gender=Fem|NumType=Card|Number=Sing</td>\n",
       "      <td>3</td>\n",
       "      <td>nummod</td>\n",
       "      <td>_</td>\n",
       "      <td>_</td>\n",
       "    </tr>\n",
       "    <tr>\n",
       "      <th>7</th>\n",
       "      <td>3</td>\n",
       "      <td>година</td>\n",
       "      <td>година</td>\n",
       "      <td>NOUN</td>\n",
       "      <td>Ncfsi</td>\n",
       "      <td>Definite=Ind|Gender=Fem|Number=Sing</td>\n",
       "      <td>5</td>\n",
       "      <td>nsubj</td>\n",
       "      <td>_</td>\n",
       "      <td>_</td>\n",
       "    </tr>\n",
       "    <tr>\n",
       "      <th>8</th>\n",
       "      <td>4</td>\n",
       "      <td>се</td>\n",
       "      <td>се</td>\n",
       "      <td>PRON</td>\n",
       "      <td>Ppxta</td>\n",
       "      <td>Case=Acc|PronType=Prs|Reflex=Yes</td>\n",
       "      <td>5</td>\n",
       "      <td>expl</td>\n",
       "      <td>_</td>\n",
       "      <td>_</td>\n",
       "    </tr>\n",
       "    <tr>\n",
       "      <th>9</th>\n",
       "      <td>5</td>\n",
       "      <td>изтърколи</td>\n",
       "      <td>изтърколя-(се)</td>\n",
       "      <td>VERB</td>\n",
       "      <td>Vpitf-r3s</td>\n",
       "      <td>Aspect=Perf|Mood=Ind|Number=Sing|Person=3|Tens...</td>\n",
       "      <td>0</td>\n",
       "      <td>ROOT</td>\n",
       "      <td>_</td>\n",
       "      <td>SpaceAfter=No</td>\n",
       "    </tr>\n",
       "    <tr>\n",
       "      <th>10</th>\n",
       "      <td>6</td>\n",
       "      <td>.</td>\n",
       "      <td>.</td>\n",
       "      <td>PUNCT</td>\n",
       "      <td>punct</td>\n",
       "      <td>_</td>\n",
       "      <td>5</td>\n",
       "      <td>punct</td>\n",
       "      <td>_</td>\n",
       "      <td>_</td>\n",
       "    </tr>\n",
       "    <tr>\n",
       "      <th>11</th>\n",
       "      <td>1</td>\n",
       "      <td>За</td>\n",
       "      <td>за</td>\n",
       "      <td>ADP</td>\n",
       "      <td>R</td>\n",
       "      <td>_</td>\n",
       "      <td>3</td>\n",
       "      <td>case</td>\n",
       "      <td>_</td>\n",
       "      <td>_</td>\n",
       "    </tr>\n",
       "    <tr>\n",
       "      <th>12</th>\n",
       "      <td>2</td>\n",
       "      <td>едни</td>\n",
       "      <td>еден</td>\n",
       "      <td>DET</td>\n",
       "      <td>Pfe-op--i</td>\n",
       "      <td>Definite=Ind|Number=Plur|PronType=Ind</td>\n",
       "      <td>1</td>\n",
       "      <td>punct</td>\n",
       "      <td>_</td>\n",
       "      <td>_</td>\n",
       "    </tr>\n",
       "    <tr>\n",
       "      <th>13</th>\n",
       "      <td>3</td>\n",
       "      <td>по-добра</td>\n",
       "      <td>по-добра</td>\n",
       "      <td>NOUN</td>\n",
       "      <td>Ncfsi</td>\n",
       "      <td>Definite=Ind|Gender=Fem|Number=Sing</td>\n",
       "      <td>0</td>\n",
       "      <td>ROOT</td>\n",
       "      <td>_</td>\n",
       "      <td>SpaceAfter=No</td>\n",
       "    </tr>\n",
       "    <tr>\n",
       "      <th>14</th>\n",
       "      <td>4</td>\n",
       "      <td>,</td>\n",
       "      <td>,</td>\n",
       "      <td>PUNCT</td>\n",
       "      <td>punct</td>\n",
       "      <td>_</td>\n",
       "      <td>7</td>\n",
       "      <td>punct</td>\n",
       "      <td>_</td>\n",
       "      <td>_</td>\n",
       "    </tr>\n",
       "    <tr>\n",
       "      <th>15</th>\n",
       "      <td>5</td>\n",
       "      <td>за</td>\n",
       "      <td>за</td>\n",
       "      <td>ADP</td>\n",
       "      <td>R</td>\n",
       "      <td>_</td>\n",
       "      <td>7</td>\n",
       "      <td>case</td>\n",
       "      <td>_</td>\n",
       "      <td>_</td>\n",
       "    </tr>\n",
       "    <tr>\n",
       "      <th>16</th>\n",
       "      <td>6</td>\n",
       "      <td>други</td>\n",
       "      <td>друг</td>\n",
       "      <td>ADJ</td>\n",
       "      <td>A-pi</td>\n",
       "      <td>Definite=Ind|Degree=Pos|Number=Plur</td>\n",
       "      <td>7</td>\n",
       "      <td>amod</td>\n",
       "      <td>_</td>\n",
       "      <td>_</td>\n",
       "    </tr>\n",
       "    <tr>\n",
       "      <th>17</th>\n",
       "      <td>7</td>\n",
       "      <td>по-лоша</td>\n",
       "      <td>по-лош</td>\n",
       "      <td>NOUN</td>\n",
       "      <td>Ncnpi</td>\n",
       "      <td>Definite=Ind|Gender=Masc|Number=Sing</td>\n",
       "      <td>3</td>\n",
       "      <td>conj</td>\n",
       "      <td>_</td>\n",
       "      <td>SpaceAfter=No</td>\n",
       "    </tr>\n",
       "    <tr>\n",
       "      <th>18</th>\n",
       "      <td>8</td>\n",
       "      <td>.</td>\n",
       "      <td>.</td>\n",
       "      <td>PUNCT</td>\n",
       "      <td>punct</td>\n",
       "      <td>_</td>\n",
       "      <td>3</td>\n",
       "      <td>punct</td>\n",
       "      <td>_</td>\n",
       "      <td>_</td>\n",
       "    </tr>\n",
       "    <tr>\n",
       "      <th>19</th>\n",
       "      <td>1</td>\n",
       "      <td>Без</td>\n",
       "      <td>без</td>\n",
       "      <td>ADP</td>\n",
       "      <td>R</td>\n",
       "      <td>_</td>\n",
       "      <td>2</td>\n",
       "      <td>case</td>\n",
       "      <td>_</td>\n",
       "      <td>_</td>\n",
       "    </tr>\n",
       "  </tbody>\n",
       "</table>\n",
       "</div>"
      ],
      "text/plain": [
       "    id       form           lemma upostag    xpostag  \\\n",
       "0    1    Честита         честита    VERB  Vpitf-r3s   \n",
       "1    2       Нова             нов     ADJ       Afsi   \n",
       "2    3     година          година    NOUN      Ncfsi   \n",
       "3    4          !               !   PUNCT      punct   \n",
       "4    1         \\n              \\n   PROPN      Npfsi   \n",
       "5    1        Още             още     ADV         Dq   \n",
       "6    2       една            един     NUM      Mcfsi   \n",
       "7    3     година          година    NOUN      Ncfsi   \n",
       "8    4         се              се    PRON      Ppxta   \n",
       "9    5  изтърколи  изтърколя-(се)    VERB  Vpitf-r3s   \n",
       "10   6          .               .   PUNCT      punct   \n",
       "11   1         За              за     ADP          R   \n",
       "12   2       едни            еден     DET  Pfe-op--i   \n",
       "13   3   по-добра        по-добра    NOUN      Ncfsi   \n",
       "14   4          ,               ,   PUNCT      punct   \n",
       "15   5         за              за     ADP          R   \n",
       "16   6      други            друг     ADJ       A-pi   \n",
       "17   7    по-лоша          по-лош    NOUN      Ncnpi   \n",
       "18   8          .               .   PUNCT      punct   \n",
       "19   1        Без             без     ADP          R   \n",
       "\n",
       "                                                feats  head  deprel deps  \\\n",
       "0   Aspect=Imp|Mood=Ind|Number=Sing|Person=3|Tense...     3   nsubj    _   \n",
       "1      Definite=Ind|Degree=Pos|Gender=Fem|Number=Sing     3    amod    _   \n",
       "2                 Definite=Ind|Gender=Fem|Number=Sing     0    ROOT    _   \n",
       "3                                                   _     3   punct    _   \n",
       "4                 Definite=Ind|Gender=Fem|Number=Sing     0    ROOT    _   \n",
       "5                                          Degree=Pos     2  advmod    _   \n",
       "6    Definite=Ind|Gender=Fem|NumType=Card|Number=Sing     3  nummod    _   \n",
       "7                 Definite=Ind|Gender=Fem|Number=Sing     5   nsubj    _   \n",
       "8                    Case=Acc|PronType=Prs|Reflex=Yes     5    expl    _   \n",
       "9   Aspect=Perf|Mood=Ind|Number=Sing|Person=3|Tens...     0    ROOT    _   \n",
       "10                                                  _     5   punct    _   \n",
       "11                                                  _     3    case    _   \n",
       "12              Definite=Ind|Number=Plur|PronType=Ind     1   punct    _   \n",
       "13                Definite=Ind|Gender=Fem|Number=Sing     0    ROOT    _   \n",
       "14                                                  _     7   punct    _   \n",
       "15                                                  _     7    case    _   \n",
       "16                Definite=Ind|Degree=Pos|Number=Plur     7    amod    _   \n",
       "17               Definite=Ind|Gender=Masc|Number=Sing     3    conj    _   \n",
       "18                                                  _     3   punct    _   \n",
       "19                                                  _     2    case    _   \n",
       "\n",
       "             misc  \n",
       "0               _  \n",
       "1               _  \n",
       "2   SpaceAfter=No  \n",
       "3   SpaceAfter=No  \n",
       "4   SpaceAfter=No  \n",
       "5               _  \n",
       "6               _  \n",
       "7               _  \n",
       "8               _  \n",
       "9   SpaceAfter=No  \n",
       "10              _  \n",
       "11              _  \n",
       "12              _  \n",
       "13  SpaceAfter=No  \n",
       "14              _  \n",
       "15              _  \n",
       "16              _  \n",
       "17  SpaceAfter=No  \n",
       "18              _  \n",
       "19              _  "
      ]
     },
     "execution_count": 28,
     "metadata": {},
     "output_type": "execute_result"
    }
   ],
   "source": [
    "conll_pd.head(20)"
   ]
  }
 ],
 "metadata": {
  "kernelspec": {
   "display_name": "Python 3 (ipykernel)",
   "language": "python",
   "name": "python3"
  },
  "language_info": {
   "codemirror_mode": {
    "name": "ipython",
    "version": 3
   },
   "file_extension": ".py",
   "mimetype": "text/x-python",
   "name": "python",
   "nbconvert_exporter": "python",
   "pygments_lexer": "ipython3",
   "version": "3.8.13"
  }
 },
 "nbformat": 4,
 "nbformat_minor": 4
}
